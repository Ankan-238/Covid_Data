{
  "nbformat": 4,
  "nbformat_minor": 0,
  "metadata": {
    "colab": {
      "provenance": [],
      "include_colab_link": true
    },
    "kernelspec": {
      "name": "python3",
      "display_name": "Python 3"
    },
    "language_info": {
      "name": "python"
    }
  },
  "cells": [
    {
      "cell_type": "markdown",
      "metadata": {
        "id": "view-in-github",
        "colab_type": "text"
      },
      "source": [
        "<a href=\"https://colab.research.google.com/github/Ankan-238/Covid_Data/blob/main/COVID_data.ipynb\" target=\"_parent\"><img src=\"https://colab.research.google.com/assets/colab-badge.svg\" alt=\"Open In Colab\"/></a>"
      ]
    },
    {
      "cell_type": "code",
      "source": [
        "import pandas as pd\n",
        "import numpy as np\n",
        "import matplotlib.pyplot as plt\n",
        "from statsmodels.tsa.stattools import adfuller\n",
        "from statsmodels.graphics.tsaplots import plot_acf, plot_pacf\n",
        "\n",
        "# Load the dataset into a DataFrame\n",
        "data = pd.read_csv('covid_tracking.csv')  # Replace 'your_dataset.csv' with the actual file name\n"
      ],
      "metadata": {
        "id": "sJEeD5Tc3CWH"
      },
      "execution_count": 1,
      "outputs": []
    },
    {
      "cell_type": "code",
      "source": [
        "data.head()"
      ],
      "metadata": {
        "colab": {
          "base_uri": "https://localhost:8080/",
          "height": 382
        },
        "id": "eb5FucE3-JUb",
        "outputId": "edf1c9c7-65bd-4872-bf7c-2c78853161fd"
      },
      "execution_count": 2,
      "outputs": [
        {
          "output_type": "execute_result",
          "data": {
            "text/plain": [
              "         date state  positive   negative  pending  hospitalized_currently  \\\n",
              "0  2021-03-07    AK   56886.0        NaN      NaN                    33.0   \n",
              "1  2021-03-07    AL  499819.0  1931711.0      NaN                   494.0   \n",
              "2  2021-03-07    AR  324818.0  2480716.0      NaN                   335.0   \n",
              "3  2021-03-07    AS       0.0     2140.0      NaN                     NaN   \n",
              "4  2021-03-07    AZ  826454.0  3073010.0      NaN                   963.0   \n",
              "\n",
              "   hospitalized_cumulative  in_icu_currently  in_icu_cumulative  \\\n",
              "0                   1293.0               NaN                NaN   \n",
              "1                  45976.0               NaN             2676.0   \n",
              "2                  14926.0             141.0                NaN   \n",
              "3                      NaN               NaN                NaN   \n",
              "4                  57907.0             273.0                NaN   \n",
              "\n",
              "   on_ventilator_currently  ...  fips  death_increase  hospitalized_increase  \\\n",
              "0                      2.0  ...     2               0                      0   \n",
              "1                      NaN  ...     1              -1                      0   \n",
              "2                     65.0  ...     5              22                     11   \n",
              "3                      NaN  ...    60               0                      0   \n",
              "4                    143.0  ...     4               5                     44   \n",
              "\n",
              "  negative_increase positive_increase total_test_results_increase  fips_code  \\\n",
              "0                 0               0.0                           0          2   \n",
              "1              2087             408.0                        2347          1   \n",
              "2              3267             165.0                        3380          5   \n",
              "3                 0               0.0                           0         60   \n",
              "4             13678            1335.0                       45110          4   \n",
              "\n",
              "   iso_subdivision            load_time  iso_country  \n",
              "0            US-AK  2023-05-09 00:04:18           US  \n",
              "1            US-AL  2023-05-09 00:04:18           US  \n",
              "2            US-AR  2023-05-09 00:04:18           US  \n",
              "3            US-AS  2023-05-09 00:04:18           US  \n",
              "4            US-AZ  2023-05-09 00:04:18           US  \n",
              "\n",
              "[5 rows x 31 columns]"
            ],
            "text/html": [
              "\n",
              "\n",
              "  <div id=\"df-7c48aa71-da84-46c7-8195-07388f8cd4c3\">\n",
              "    <div class=\"colab-df-container\">\n",
              "      <div>\n",
              "<style scoped>\n",
              "    .dataframe tbody tr th:only-of-type {\n",
              "        vertical-align: middle;\n",
              "    }\n",
              "\n",
              "    .dataframe tbody tr th {\n",
              "        vertical-align: top;\n",
              "    }\n",
              "\n",
              "    .dataframe thead th {\n",
              "        text-align: right;\n",
              "    }\n",
              "</style>\n",
              "<table border=\"1\" class=\"dataframe\">\n",
              "  <thead>\n",
              "    <tr style=\"text-align: right;\">\n",
              "      <th></th>\n",
              "      <th>date</th>\n",
              "      <th>state</th>\n",
              "      <th>positive</th>\n",
              "      <th>negative</th>\n",
              "      <th>pending</th>\n",
              "      <th>hospitalized_currently</th>\n",
              "      <th>hospitalized_cumulative</th>\n",
              "      <th>in_icu_currently</th>\n",
              "      <th>in_icu_cumulative</th>\n",
              "      <th>on_ventilator_currently</th>\n",
              "      <th>...</th>\n",
              "      <th>fips</th>\n",
              "      <th>death_increase</th>\n",
              "      <th>hospitalized_increase</th>\n",
              "      <th>negative_increase</th>\n",
              "      <th>positive_increase</th>\n",
              "      <th>total_test_results_increase</th>\n",
              "      <th>fips_code</th>\n",
              "      <th>iso_subdivision</th>\n",
              "      <th>load_time</th>\n",
              "      <th>iso_country</th>\n",
              "    </tr>\n",
              "  </thead>\n",
              "  <tbody>\n",
              "    <tr>\n",
              "      <th>0</th>\n",
              "      <td>2021-03-07</td>\n",
              "      <td>AK</td>\n",
              "      <td>56886.0</td>\n",
              "      <td>NaN</td>\n",
              "      <td>NaN</td>\n",
              "      <td>33.0</td>\n",
              "      <td>1293.0</td>\n",
              "      <td>NaN</td>\n",
              "      <td>NaN</td>\n",
              "      <td>2.0</td>\n",
              "      <td>...</td>\n",
              "      <td>2</td>\n",
              "      <td>0</td>\n",
              "      <td>0</td>\n",
              "      <td>0</td>\n",
              "      <td>0.0</td>\n",
              "      <td>0</td>\n",
              "      <td>2</td>\n",
              "      <td>US-AK</td>\n",
              "      <td>2023-05-09 00:04:18</td>\n",
              "      <td>US</td>\n",
              "    </tr>\n",
              "    <tr>\n",
              "      <th>1</th>\n",
              "      <td>2021-03-07</td>\n",
              "      <td>AL</td>\n",
              "      <td>499819.0</td>\n",
              "      <td>1931711.0</td>\n",
              "      <td>NaN</td>\n",
              "      <td>494.0</td>\n",
              "      <td>45976.0</td>\n",
              "      <td>NaN</td>\n",
              "      <td>2676.0</td>\n",
              "      <td>NaN</td>\n",
              "      <td>...</td>\n",
              "      <td>1</td>\n",
              "      <td>-1</td>\n",
              "      <td>0</td>\n",
              "      <td>2087</td>\n",
              "      <td>408.0</td>\n",
              "      <td>2347</td>\n",
              "      <td>1</td>\n",
              "      <td>US-AL</td>\n",
              "      <td>2023-05-09 00:04:18</td>\n",
              "      <td>US</td>\n",
              "    </tr>\n",
              "    <tr>\n",
              "      <th>2</th>\n",
              "      <td>2021-03-07</td>\n",
              "      <td>AR</td>\n",
              "      <td>324818.0</td>\n",
              "      <td>2480716.0</td>\n",
              "      <td>NaN</td>\n",
              "      <td>335.0</td>\n",
              "      <td>14926.0</td>\n",
              "      <td>141.0</td>\n",
              "      <td>NaN</td>\n",
              "      <td>65.0</td>\n",
              "      <td>...</td>\n",
              "      <td>5</td>\n",
              "      <td>22</td>\n",
              "      <td>11</td>\n",
              "      <td>3267</td>\n",
              "      <td>165.0</td>\n",
              "      <td>3380</td>\n",
              "      <td>5</td>\n",
              "      <td>US-AR</td>\n",
              "      <td>2023-05-09 00:04:18</td>\n",
              "      <td>US</td>\n",
              "    </tr>\n",
              "    <tr>\n",
              "      <th>3</th>\n",
              "      <td>2021-03-07</td>\n",
              "      <td>AS</td>\n",
              "      <td>0.0</td>\n",
              "      <td>2140.0</td>\n",
              "      <td>NaN</td>\n",
              "      <td>NaN</td>\n",
              "      <td>NaN</td>\n",
              "      <td>NaN</td>\n",
              "      <td>NaN</td>\n",
              "      <td>NaN</td>\n",
              "      <td>...</td>\n",
              "      <td>60</td>\n",
              "      <td>0</td>\n",
              "      <td>0</td>\n",
              "      <td>0</td>\n",
              "      <td>0.0</td>\n",
              "      <td>0</td>\n",
              "      <td>60</td>\n",
              "      <td>US-AS</td>\n",
              "      <td>2023-05-09 00:04:18</td>\n",
              "      <td>US</td>\n",
              "    </tr>\n",
              "    <tr>\n",
              "      <th>4</th>\n",
              "      <td>2021-03-07</td>\n",
              "      <td>AZ</td>\n",
              "      <td>826454.0</td>\n",
              "      <td>3073010.0</td>\n",
              "      <td>NaN</td>\n",
              "      <td>963.0</td>\n",
              "      <td>57907.0</td>\n",
              "      <td>273.0</td>\n",
              "      <td>NaN</td>\n",
              "      <td>143.0</td>\n",
              "      <td>...</td>\n",
              "      <td>4</td>\n",
              "      <td>5</td>\n",
              "      <td>44</td>\n",
              "      <td>13678</td>\n",
              "      <td>1335.0</td>\n",
              "      <td>45110</td>\n",
              "      <td>4</td>\n",
              "      <td>US-AZ</td>\n",
              "      <td>2023-05-09 00:04:18</td>\n",
              "      <td>US</td>\n",
              "    </tr>\n",
              "  </tbody>\n",
              "</table>\n",
              "<p>5 rows × 31 columns</p>\n",
              "</div>\n",
              "      <button class=\"colab-df-convert\" onclick=\"convertToInteractive('df-7c48aa71-da84-46c7-8195-07388f8cd4c3')\"\n",
              "              title=\"Convert this dataframe to an interactive table.\"\n",
              "              style=\"display:none;\">\n",
              "\n",
              "  <svg xmlns=\"http://www.w3.org/2000/svg\" height=\"24px\"viewBox=\"0 0 24 24\"\n",
              "       width=\"24px\">\n",
              "    <path d=\"M0 0h24v24H0V0z\" fill=\"none\"/>\n",
              "    <path d=\"M18.56 5.44l.94 2.06.94-2.06 2.06-.94-2.06-.94-.94-2.06-.94 2.06-2.06.94zm-11 1L8.5 8.5l.94-2.06 2.06-.94-2.06-.94L8.5 2.5l-.94 2.06-2.06.94zm10 10l.94 2.06.94-2.06 2.06-.94-2.06-.94-.94-2.06-.94 2.06-2.06.94z\"/><path d=\"M17.41 7.96l-1.37-1.37c-.4-.4-.92-.59-1.43-.59-.52 0-1.04.2-1.43.59L10.3 9.45l-7.72 7.72c-.78.78-.78 2.05 0 2.83L4 21.41c.39.39.9.59 1.41.59.51 0 1.02-.2 1.41-.59l7.78-7.78 2.81-2.81c.8-.78.8-2.07 0-2.86zM5.41 20L4 18.59l7.72-7.72 1.47 1.35L5.41 20z\"/>\n",
              "  </svg>\n",
              "      </button>\n",
              "\n",
              "\n",
              "\n",
              "    <div id=\"df-4b82dcc5-9724-448e-a421-18c89888703f\">\n",
              "      <button class=\"colab-df-quickchart\" onclick=\"quickchart('df-4b82dcc5-9724-448e-a421-18c89888703f')\"\n",
              "              title=\"Suggest charts.\"\n",
              "              style=\"display:none;\">\n",
              "\n",
              "<svg xmlns=\"http://www.w3.org/2000/svg\" height=\"24px\"viewBox=\"0 0 24 24\"\n",
              "     width=\"24px\">\n",
              "    <g>\n",
              "        <path d=\"M19 3H5c-1.1 0-2 .9-2 2v14c0 1.1.9 2 2 2h14c1.1 0 2-.9 2-2V5c0-1.1-.9-2-2-2zM9 17H7v-7h2v7zm4 0h-2V7h2v10zm4 0h-2v-4h2v4z\"/>\n",
              "    </g>\n",
              "</svg>\n",
              "      </button>\n",
              "    </div>\n",
              "\n",
              "<style>\n",
              "  .colab-df-quickchart {\n",
              "    background-color: #E8F0FE;\n",
              "    border: none;\n",
              "    border-radius: 50%;\n",
              "    cursor: pointer;\n",
              "    display: none;\n",
              "    fill: #1967D2;\n",
              "    height: 32px;\n",
              "    padding: 0 0 0 0;\n",
              "    width: 32px;\n",
              "  }\n",
              "\n",
              "  .colab-df-quickchart:hover {\n",
              "    background-color: #E2EBFA;\n",
              "    box-shadow: 0px 1px 2px rgba(60, 64, 67, 0.3), 0px 1px 3px 1px rgba(60, 64, 67, 0.15);\n",
              "    fill: #174EA6;\n",
              "  }\n",
              "\n",
              "  [theme=dark] .colab-df-quickchart {\n",
              "    background-color: #3B4455;\n",
              "    fill: #D2E3FC;\n",
              "  }\n",
              "\n",
              "  [theme=dark] .colab-df-quickchart:hover {\n",
              "    background-color: #434B5C;\n",
              "    box-shadow: 0px 1px 3px 1px rgba(0, 0, 0, 0.15);\n",
              "    filter: drop-shadow(0px 1px 2px rgba(0, 0, 0, 0.3));\n",
              "    fill: #FFFFFF;\n",
              "  }\n",
              "</style>\n",
              "\n",
              "    <script>\n",
              "      async function quickchart(key) {\n",
              "        const containerElement = document.querySelector('#' + key);\n",
              "        const charts = await google.colab.kernel.invokeFunction(\n",
              "            'suggestCharts', [key], {});\n",
              "      }\n",
              "    </script>\n",
              "\n",
              "      <script>\n",
              "\n",
              "function displayQuickchartButton(domScope) {\n",
              "  let quickchartButtonEl =\n",
              "    domScope.querySelector('#df-4b82dcc5-9724-448e-a421-18c89888703f button.colab-df-quickchart');\n",
              "  quickchartButtonEl.style.display =\n",
              "    google.colab.kernel.accessAllowed ? 'block' : 'none';\n",
              "}\n",
              "\n",
              "        displayQuickchartButton(document);\n",
              "      </script>\n",
              "      <style>\n",
              "    .colab-df-container {\n",
              "      display:flex;\n",
              "      flex-wrap:wrap;\n",
              "      gap: 12px;\n",
              "    }\n",
              "\n",
              "    .colab-df-convert {\n",
              "      background-color: #E8F0FE;\n",
              "      border: none;\n",
              "      border-radius: 50%;\n",
              "      cursor: pointer;\n",
              "      display: none;\n",
              "      fill: #1967D2;\n",
              "      height: 32px;\n",
              "      padding: 0 0 0 0;\n",
              "      width: 32px;\n",
              "    }\n",
              "\n",
              "    .colab-df-convert:hover {\n",
              "      background-color: #E2EBFA;\n",
              "      box-shadow: 0px 1px 2px rgba(60, 64, 67, 0.3), 0px 1px 3px 1px rgba(60, 64, 67, 0.15);\n",
              "      fill: #174EA6;\n",
              "    }\n",
              "\n",
              "    [theme=dark] .colab-df-convert {\n",
              "      background-color: #3B4455;\n",
              "      fill: #D2E3FC;\n",
              "    }\n",
              "\n",
              "    [theme=dark] .colab-df-convert:hover {\n",
              "      background-color: #434B5C;\n",
              "      box-shadow: 0px 1px 3px 1px rgba(0, 0, 0, 0.15);\n",
              "      filter: drop-shadow(0px 1px 2px rgba(0, 0, 0, 0.3));\n",
              "      fill: #FFFFFF;\n",
              "    }\n",
              "  </style>\n",
              "\n",
              "      <script>\n",
              "        const buttonEl =\n",
              "          document.querySelector('#df-7c48aa71-da84-46c7-8195-07388f8cd4c3 button.colab-df-convert');\n",
              "        buttonEl.style.display =\n",
              "          google.colab.kernel.accessAllowed ? 'block' : 'none';\n",
              "\n",
              "        async function convertToInteractive(key) {\n",
              "          const element = document.querySelector('#df-7c48aa71-da84-46c7-8195-07388f8cd4c3');\n",
              "          const dataTable =\n",
              "            await google.colab.kernel.invokeFunction('convertToInteractive',\n",
              "                                                     [key], {});\n",
              "          if (!dataTable) return;\n",
              "\n",
              "          const docLinkHtml = 'Like what you see? Visit the ' +\n",
              "            '<a target=\"_blank\" href=https://colab.research.google.com/notebooks/data_table.ipynb>data table notebook</a>'\n",
              "            + ' to learn more about interactive tables.';\n",
              "          element.innerHTML = '';\n",
              "          dataTable['output_type'] = 'display_data';\n",
              "          await google.colab.output.renderOutput(dataTable, element);\n",
              "          const docLink = document.createElement('div');\n",
              "          docLink.innerHTML = docLinkHtml;\n",
              "          element.appendChild(docLink);\n",
              "        }\n",
              "      </script>\n",
              "    </div>\n",
              "  </div>\n"
            ]
          },
          "metadata": {},
          "execution_count": 2
        }
      ]
    },
    {
      "cell_type": "code",
      "source": [
        "data.shape"
      ],
      "metadata": {
        "colab": {
          "base_uri": "https://localhost:8080/"
        },
        "id": "ONTwdU4_PcAb",
        "outputId": "8fbbd523-85fd-470e-9975-bf4b4f6eebf1"
      },
      "execution_count": 3,
      "outputs": [
        {
          "output_type": "execute_result",
          "data": {
            "text/plain": [
              "(22261, 31)"
            ]
          },
          "metadata": {},
          "execution_count": 3
        }
      ]
    },
    {
      "cell_type": "code",
      "source": [
        "data.info()"
      ],
      "metadata": {
        "colab": {
          "base_uri": "https://localhost:8080/"
        },
        "id": "kMzf8D01-swy",
        "outputId": "3ce8c083-c295-4bcc-d902-4361f5211da7"
      },
      "execution_count": 4,
      "outputs": [
        {
          "output_type": "stream",
          "name": "stdout",
          "text": [
            "<class 'pandas.core.frame.DataFrame'>\n",
            "RangeIndex: 22261 entries, 0 to 22260\n",
            "Data columns (total 31 columns):\n",
            " #   Column                       Non-Null Count  Dtype  \n",
            "---  ------                       --------------  -----  \n",
            " 0   date                         22261 non-null  object \n",
            " 1   state                        22261 non-null  object \n",
            " 2   positive                     22066 non-null  float64\n",
            " 3   negative                     14225 non-null  float64\n",
            " 4   pending                      2479 non-null   float64\n",
            " 5   hospitalized_currently       18584 non-null  float64\n",
            " 6   hospitalized_cumulative      13084 non-null  float64\n",
            " 7   in_icu_currently             12655 non-null  float64\n",
            " 8   in_icu_cumulative            4126 non-null   float64\n",
            " 9   on_ventilator_currently      10017 non-null  float64\n",
            " 10  on_ventilator_cumulative     1290 non-null   float64\n",
            " 11  recovered                    13164 non-null  float64\n",
            " 12  data_quality_grade           0 non-null      float64\n",
            " 13  last_update_et               21608 non-null  object \n",
            " 14  hash                         22261 non-null  object \n",
            " 15  date_checked                 21608 non-null  object \n",
            " 16  death                        21194 non-null  float64\n",
            " 17  hospitalized                 13084 non-null  float64\n",
            " 18  total                        22261 non-null  int64  \n",
            " 19  total_test_results           22086 non-null  float64\n",
            " 20  pos_neg                      22261 non-null  int64  \n",
            " 21  fips                         22261 non-null  int64  \n",
            " 22  death_increase               22261 non-null  int64  \n",
            " 23  hospitalized_increase        22261 non-null  int64  \n",
            " 24  negative_increase            22261 non-null  int64  \n",
            " 25  positive_increase            22232 non-null  float64\n",
            " 26  total_test_results_increase  22261 non-null  int64  \n",
            " 27  fips_code                    22261 non-null  int64  \n",
            " 28  iso_subdivision              22261 non-null  object \n",
            " 29  load_time                    22261 non-null  object \n",
            " 30  iso_country                  22261 non-null  object \n",
            "dtypes: float64(15), int64(8), object(8)\n",
            "memory usage: 5.3+ MB\n"
          ]
        }
      ]
    },
    {
      "cell_type": "code",
      "source": [
        "data.isna().sum()"
      ],
      "metadata": {
        "colab": {
          "base_uri": "https://localhost:8080/"
        },
        "id": "Ry3HLkYAAnjk",
        "outputId": "fcb1119a-d956-415c-e82d-f521299702db"
      },
      "execution_count": 5,
      "outputs": [
        {
          "output_type": "execute_result",
          "data": {
            "text/plain": [
              "date                               0\n",
              "state                              0\n",
              "positive                         195\n",
              "negative                        8036\n",
              "pending                        19782\n",
              "hospitalized_currently          3677\n",
              "hospitalized_cumulative         9177\n",
              "in_icu_currently                9606\n",
              "in_icu_cumulative              18135\n",
              "on_ventilator_currently        12244\n",
              "on_ventilator_cumulative       20971\n",
              "recovered                       9097\n",
              "data_quality_grade             22261\n",
              "last_update_et                   653\n",
              "hash                               0\n",
              "date_checked                     653\n",
              "death                           1067\n",
              "hospitalized                    9177\n",
              "total                              0\n",
              "total_test_results               175\n",
              "pos_neg                            0\n",
              "fips                               0\n",
              "death_increase                     0\n",
              "hospitalized_increase              0\n",
              "negative_increase                  0\n",
              "positive_increase                 29\n",
              "total_test_results_increase        0\n",
              "fips_code                          0\n",
              "iso_subdivision                    0\n",
              "load_time                          0\n",
              "iso_country                        0\n",
              "dtype: int64"
            ]
          },
          "metadata": {},
          "execution_count": 5
        }
      ]
    },
    {
      "cell_type": "markdown",
      "source": [
        "Taking death as the target variable- we are doing the Time Series analysis and the related visualizations."
      ],
      "metadata": {
        "id": "M92Ece2uF4ix"
      }
    },
    {
      "cell_type": "code",
      "source": [
        "data['death']=data['death'].fillna(data['death'].mean())"
      ],
      "metadata": {
        "id": "6bb80aqtGqg5"
      },
      "execution_count": 6,
      "outputs": []
    },
    {
      "cell_type": "code",
      "source": [
        "# Convert the 'date' column to a datetime object\n",
        "data['date'] = pd.to_datetime(data['date'])"
      ],
      "metadata": {
        "id": "jnH-_8fu-7Wf"
      },
      "execution_count": 7,
      "outputs": []
    },
    {
      "cell_type": "code",
      "source": [
        "# Set 'date' column as the DataFrame index\n",
        "data.set_index('date', inplace=True)"
      ],
      "metadata": {
        "id": "2z3P13Ow_Frl"
      },
      "execution_count": 8,
      "outputs": []
    },
    {
      "cell_type": "code",
      "source": [
        "# Select the columns relevant for time-series analysis (e.g., 'positive', 'hospitalized_currently', etc.)\n",
        "columns_of_interest = ['death']\n",
        "#negative','in_icu_currently','on_ventilator_currently','recovered','death','hospitalized','total_test_results_increase'"
      ],
      "metadata": {
        "id": "hRIJNcpt_IdM"
      },
      "execution_count": 9,
      "outputs": []
    },
    {
      "cell_type": "code",
      "source": [
        "# Plot time-series charts for selected columns\n",
        "for column in columns_of_interest:\n",
        "    plt.figure(figsize=(10, 6))\n",
        "    plt.plot(data.index, data[column])\n",
        "    plt.xlabel('Date')\n",
        "    plt.ylabel(column)\n",
        "    plt.title(f'{column} Time Series')\n",
        "    plt.show()"
      ],
      "metadata": {
        "colab": {
          "base_uri": "https://localhost:8080/",
          "height": 564
        },
        "id": "KDDwgVrUAEn0",
        "outputId": "50271d20-ae3a-468e-9b29-e262b2817239"
      },
      "execution_count": 10,
      "outputs": [
        {
          "output_type": "display_data",
          "data": {
            "text/plain": [
              "<Figure size 1000x600 with 1 Axes>"
            ],
            "image/png": "[encoded data removed]"
          },
          "metadata": {}
        }
      ]
    },
    {
      "cell_type": "code",
      "source": [
        "# Check for stationarity using the Augmented Dickey-Fuller test\n",
        "for column in columns_of_interest:\n",
        "    result = adfuller(data[column])\n",
        "    print(f'{column} - ADF Statistic: {result[0]}')\n",
        "    print(f'{column} - p-value: {result[1]}')\n",
        "    print(f'{column} - Critical Values: {result[4]}')"
      ],
      "metadata": {
        "colab": {
          "base_uri": "https://localhost:8080/"
        },
        "id": "jLwh0uCuALBa",
        "outputId": "31a90002-6c03-4df9-ef4b-2e61ca1573dd"
      },
      "execution_count": 11,
      "outputs": [
        {
          "output_type": "stream",
          "name": "stdout",
          "text": [
            "death - ADF Statistic: -6.962181513454376\n",
            "death - p-value: 9.104808744788594e-10\n",
            "death - Critical Values: {'1%': -3.4306444246992567, '5%': -2.861670126083386, '10%': -2.566839262434497}\n"
          ]
        }
      ]
    },
    {
      "cell_type": "code",
      "source": [
        "# Plot Autocorrelation and Partial Autocorrelation functions\n",
        "for column in columns_of_interest:\n",
        "    plt.figure(figsize=(10, 6))\n",
        "    plot_acf(data[column], lags=30, title=f'{column} - Autocorrelation')\n",
        "    plt.show()\n",
        "\n",
        "    plt.figure(figsize=(10, 6))\n",
        "    plot_pacf(data[column], lags=30, title=f'{column} - Partial Autocorrelation')\n",
        "    plt.show()"
      ],
      "metadata": {
        "colab": {
          "base_uri": "https://localhost:8080/",
          "height": 975
        },
        "id": "CxPym-9kOg5b",
        "outputId": "71e4564c-a4f1-483f-ad6a-e014a93b0404"
      },
      "execution_count": 12,
      "outputs": [
        {
          "output_type": "display_data",
          "data": {
            "text/plain": [
              "<Figure size 1000x600 with 0 Axes>"
            ]
          },
          "metadata": {}
        },
        {
          "output_type": "display_data",
          "data": {
            "text/plain": [
              "<Figure size 640x480 with 1 Axes>"
            ],
            "image/png": "[encoded data removed]"
          },
          "metadata": {}
        },
        {
          "output_type": "stream",
          "name": "stderr",
          "text": [
            "/usr/local/lib/python3.10/dist-packages/statsmodels/graphics/tsaplots.py:348: FutureWarning: The default method 'yw' can produce PACF values outside of the [-1,1] interval. After 0.13, the default will change tounadjusted Yule-Walker ('ywm'). You can use this method now by setting method='ywm'.\n",
            "  warnings.warn(\n"
          ]
        },
        {
          "output_type": "display_data",
          "data": {
            "text/plain": [
              "<Figure size 1000x600 with 0 Axes>"
            ]
          },
          "metadata": {}
        },
        {
          "output_type": "display_data",
          "data": {
            "text/plain": [
              "<Figure size 640x480 with 1 Axes>"
            ],
            "image/png": "[encoded data removed]"
          },
          "metadata": {}
        }
      ]
    }
  ]
}